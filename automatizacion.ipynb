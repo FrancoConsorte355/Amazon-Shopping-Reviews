{
 "cells": [
  {
   "cell_type": "markdown",
   "metadata": {},
   "source": [
    "Proceso de automatización para Amazon Reviews\n"
   ]
  },
  {
   "cell_type": "code",
   "execution_count": 18,
   "metadata": {},
   "outputs": [
    {
     "name": "stdout",
     "output_type": "stream",
     "text": [
      "Dataset URL: https://www.kaggle.com/datasets/ashishkumarak/amazon-shopping-reviews-daily-updated\n",
      "No hay registros nuevos para insertar.\n",
      "Corrección de valores nulos aplicada en toda la base de datos.\n"
     ]
    }
   ],
   "source": [
    "from sqlalchemy import create_engine, text\n",
    "import pandas as pd\n",
    "import os\n",
    "from kaggle.api.kaggle_api_extended import KaggleApi\n",
    "\n",
    "# Configuración de conexión SQL Server\n",
    "SQL_SERVER = 'FRANCOCONSORTE\\\\SQLEXPRESS'\n",
    "DATABASE = 'amazon'\n",
    "TABLE = 'dbo.amazon_reviews'\n",
    "USER = 'FRANCOCONSORTE\\\\franc'\n",
    "\n",
    "# Crear conexión con SQLAlchemy usando autenticación de Windows\n",
    "engine = create_engine(f\"mssql+pyodbc://{USER}@{SQL_SERVER}/{DATABASE}?driver=ODBC+Driver+17+for+SQL+Server&Trusted_Connection=yes\")\n",
    "\n",
    "def download_from_kaggle():\n",
    "    \"\"\" Descarga el dataset de Kaggle y lo descomprime \"\"\"\n",
    "    os.environ['KAGGLE_CONFIG_DIR'] = r\"C:\\Users\\franc\\OneDrive\\Documentos\\Data Analyst\\Proyectos\\Amazon.kaggle\"  # Configurar ruta de credenciales\n",
    "\n",
    "    api = KaggleApi()\n",
    "    api.authenticate()\n",
    "    \n",
    "    dataset_path = \"ashishkumarak/amazon-shopping-reviews-daily-updated\"\n",
    "    api.dataset_download_files(dataset_path, path='./', unzip=True)\n",
    "    return \"./amazon_reviews.csv\"\n",
    "\n",
    "def transform_data(file_path):\n",
    "    \"\"\" Transforma los datos eliminando columnas y manejando fechas \"\"\"\n",
    "    df = pd.read_csv(file_path)\n",
    "    \n",
    "    # Eliminar la columna 'reviewCreatedVersion' si existe\n",
    "    df.drop(columns=['reviewCreatedVersion'], errors='ignore', inplace=True)\n",
    "\n",
    "    # Manejo de la columna 'at' (fecha y hora)\n",
    "    if 'at' in df.columns:\n",
    "        df['fecha'] = pd.to_datetime(df['at']).dt.date\n",
    "        df['hora'] = pd.to_datetime(df['at']).dt.time\n",
    "        df.drop(columns=['at'], inplace=True)\n",
    "\n",
    "    # Llenar valores nulos en 'appVersion'\n",
    "    df['appVersion'] = df['appVersion'].ffill()\n",
    "\n",
    "    return df\n",
    "\n",
    "def load_data_to_sql(df):\n",
    "    \"\"\" Carga los datos transformados en SQL Server evitando duplicados y corrigiendo valores nulos \"\"\"\n",
    "    with engine.connect() as conn:\n",
    "        existing_ids = pd.read_sql(f\"SELECT reviewId FROM {TABLE}\", conn)\n",
    "        existing_ids_set = set(existing_ids['reviewId'])\n",
    "\n",
    "        new_rows = df[~df['reviewId'].isin(existing_ids_set)]\n",
    "        if new_rows.empty:\n",
    "            print(\"No hay registros nuevos para insertar.\")\n",
    "        else:\n",
    "            insert_query = text(f\"\"\"\n",
    "                INSERT INTO {TABLE} (reviewId, userName, content, score, thumbsUpCount, appVersion, fecha, hora)\n",
    "                VALUES (:reviewId, :userName, :content, :score, :thumbsUpCount, :appVersion, :fecha, :hora)\n",
    "            \"\"\")\n",
    "\n",
    "            insert_data = new_rows.to_dict(orient='records')  # Convierte DataFrame a lista de diccionarios\n",
    "\n",
    "            try:\n",
    "                conn.execute(insert_query, insert_data)  # Ejecutar inserción\n",
    "                print(f\"Carga completada: {len(insert_data)} registros insertados.\")\n",
    "            except Exception as e:\n",
    "                print(f\"Error al insertar datos: {e}\")\n",
    "\n",
    "        # Corregir valores nulos en la base de datos para datos antiguos y nuevos\n",
    "        cleanup_query = text(f\"\"\"\n",
    "            UPDATE {TABLE}\n",
    "            SET appVersion = COALESCE(appVersion, 'Desconocida'),\n",
    "                fecha = COALESCE(fecha, CAST(GETDATE() AS DATE)),\n",
    "                hora = COALESCE(hora, CAST(GETDATE() AS TIME))\n",
    "            WHERE appVersion IS NULL OR fecha IS NULL OR hora IS NULL;\n",
    "        \"\"\")\n",
    "        conn.execute(cleanup_query)\n",
    "        print(\"Corrección de valores nulos aplicada en toda la base de datos.\")\n",
    "\n",
    "if __name__ == \"__main__\":\n",
    "    file_path = download_from_kaggle()\n",
    "    transformed_data = transform_data(file_path)\n",
    "    load_data_to_sql(transformed_data)\n"
   ]
  },
  {
   "cell_type": "code",
   "execution_count": null,
   "metadata": {},
   "outputs": [],
   "source": []
  }
 ],
 "metadata": {
  "kernelspec": {
   "display_name": "Python 3",
   "language": "python",
   "name": "python3"
  },
  "language_info": {
   "codemirror_mode": {
    "name": "ipython",
    "version": 3
   },
   "file_extension": ".py",
   "mimetype": "text/x-python",
   "name": "python",
   "nbconvert_exporter": "python",
   "pygments_lexer": "ipython3",
   "version": "3.11.9"
  }
 },
 "nbformat": 4,
 "nbformat_minor": 2
}
